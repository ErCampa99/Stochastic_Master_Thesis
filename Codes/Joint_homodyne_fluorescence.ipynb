{
 "cells": [
  {
   "cell_type": "code",
   "execution_count": 5,
   "id": "b953f8e2",
   "metadata": {},
   "outputs": [],
   "source": [
    "import numpy as np\n",
    "import matplotlib.pyplot as plt\n",
    "from qutip import *"
   ]
  },
  {
   "cell_type": "markdown",
   "id": "e687f96d",
   "metadata": {},
   "source": [
    "# Entanglement of a pair of quantum emitters via continuous fluorescence measurements: a tutorial"
   ]
  },
  {
   "cell_type": "markdown",
   "id": "b9f1be0b",
   "metadata": {},
   "source": [
    "### SME - ENTANGLEMENT BY JOINT HOMODYNE DETECTION OF FLUORESCENCE, Chap.5"
   ]
  },
  {
   "cell_type": "code",
   "execution_count": 7,
   "id": "f03f1e8c",
   "metadata": {},
   "outputs": [],
   "source": [
    "def theo_concurrence(t, gamma):\n",
    "    return 2*np.exp(-gamma*t)*(1-np.exp(-gamma*t)) \n",
    "\n",
    "def concurrence_pure_state(state): \n",
    "    ###Compute the concurrence for a pure state\n",
    "    return 2*np.abs(state[0]*state[3]-state[1]*state[2])\n",
    "\n",
    "def compute_concurrences(solution):\n",
    "    ntraj = len(solution.runs_states)\n",
    "    n_times = len(solution.runs_states[0])  # si assume che tutte le traiettorie abbiano stesso numero di time step\n",
    "\n",
    "    conc_array = np.zeros((ntraj, n_times))\n",
    "\n",
    "    for traj_idx in range(ntraj):\n",
    "        for t_idx, state in enumerate(solution.runs_states[traj_idx]):\n",
    "\n",
    "            if state.isket:\n",
    "                conc_array[traj_idx, t_idx] = concurrence_pure_state(state) #Use fast method for pure states\n",
    "            else:               \n",
    "                conc_array[traj_idx, t_idx] = concurrence(state)\n",
    "\n",
    "    return conc_array\n",
    "\n",
    "def compute_mean_concurrence(conc_array):\n",
    "    mean_conc = np.mean(np.array(conc_array), axis=0)\n",
    "    return mean_conc"
   ]
  },
  {
   "cell_type": "code",
   "execution_count": 8,
   "id": "ac019e59",
   "metadata": {},
   "outputs": [],
   "source": [
    "#  Convenzione: |e> = (1,0) and |g> = (0,1)\n",
    "\n",
    "# parameters\n",
    "GAMMA = 1              # Atom decay rate\n",
    "OMEGA = 1\n",
    "T_1 = 1 / GAMMA  # time constant for the decay\n",
    "ntraj = 1000 # number of trajectories\n",
    "I_2 = qeye(2)  # identity operator for 2-level system\n",
    "sm = sigmam()  # lowering operator for 2-level system (atom)\n",
    "\n",
    "# operators\n",
    "sigma_minus_1 = tensor(sm, I_2) # lowering operator for atom 1\n",
    "sigma_minus_2 = tensor(I_2, sm) # lowering operator for atom 2\n",
    "sigma_minus_12 = tensor(sigma_minus_1, sigma_minus_2) # combined lowering operator for both atoms    \n",
    "\n",
    "sigma_plus_1 = sigma_minus_1.dag() # raising operator for atom 1\n",
    "sigma_plus_2 = sigma_minus_2.dag() # raising operator for atom       \n",
    "sigma_plus_12 = tensor(sigma_plus_1, sigma_plus_2) # raising operator for both atoms\n",
    "\n",
    "H_free_atom_1 = 0.5 * OMEGA * tensor(sigmaz(), I_2) # Free Hamiltonian atom 1\n",
    "H_free_atom_2 = 0.5 * OMEGA * tensor(I_2, sigmaz()) # Free Hamiltonian atom 2\n",
    "H_free = H_free_atom_1 + H_free_atom_2 # Free Hamiltonian for both atoms        \n",
    "\n",
    "ee = tensor(basis(2, 0), basis(2, 0))# initial vector state, |e, e> (the atoms must decay from the excited state!)\n",
    "times = np.arange(0, 3, 0.0001) # time vector"
   ]
  },
  {
   "cell_type": "code",
   "execution_count": 9,
   "id": "01bff138",
   "metadata": {},
   "outputs": [
    {
     "name": "stdout",
     "output_type": "stream",
     "text": [
      "10.0%. Run time: 409.87s. Est. time left: 00:01:01:28\n",
      "20.0%. Run time: 831.73s. Est. time left: 00:00:55:26\n",
      "30.0%. Run time: 1266.79s. Est. time left: 00:00:49:15\n",
      "40.0%. Run time: 1703.79s. Est. time left: 00:00:42:35\n",
      "50.0%. Run time: 2194.60s. Est. time left: 00:00:36:34\n",
      "60.0%. Run time: 3169.12s. Est. time left: 00:00:35:12\n",
      "70.0%. Run time: 4210.68s. Est. time left: 00:00:30:04\n",
      "80.0%. Run time: 4998.54s. Est. time left: 00:00:20:49\n",
      "90.0%. Run time: 6043.59s. Est. time left: 00:00:11:11\n",
      "100.0%. Run time: 6510.05s. Est. time left: 00:00:00:00\n",
      "Total run time: 6520.98s\n"
     ]
    }
   ],
   "source": [
    "# solve the master equation using the stochastic master equation with photodetection\n",
    "#Without dt doesn't work ?!?!?!?!\n",
    "ee_solutions_jhom = ssesolve(\n",
    "    H_free, ee, times,\n",
    "    sc_ops=[np.exp(1j * np.pi / 2)*np.sqrt(GAMMA/2) * (sigma_minus_1+sigma_minus_2), np.sqrt(GAMMA/2) * (sigma_minus_1-sigma_minus_2)],  # Two stochastic collapse operators \n",
    "    ntraj=ntraj,\n",
    "    options={\"dt\": 0.0001, \"store_states\": True, \"keep_runs_results\": True},\n",
    ")"
   ]
  },
  {
   "cell_type": "code",
   "execution_count": 4,
   "id": "d3a06f9e",
   "metadata": {},
   "outputs": [],
   "source": [
    "#B_10_solutions_jhom = ssesolve(\n",
    "    #H_free, bell_state(\"10\"), times,\n",
    "    #sc_ops=[np.sqrt(GAMMA) * (sigma_minus_1+sigma_minus_2)/np.sqrt(2), np.sqrt(GAMMA) * (sigma_minus_1-sigma_minus_2)/np.sqrt(2)],  # Two stochastic collapse operators \n",
    "    #ntraj=ntraj,\n",
    "    #options={\"store_states\": True, \"keep_runs_results\": True},\n",
    "#)"
   ]
  },
  {
   "cell_type": "code",
   "execution_count": 15,
   "id": "3564ae3d",
   "metadata": {},
   "outputs": [],
   "source": [
    "with open(\"conc.txt\", \"w\") as file:\n",
    "    file.write(\"\\n\".join(str(e) for e in mean_conc_ee_solutions_jhom))"
   ]
  },
  {
   "cell_type": "code",
   "execution_count": 12,
   "id": "35514b58",
   "metadata": {},
   "outputs": [
    {
     "name": "stderr",
     "output_type": "stream",
     "text": [
      "C:\\Users\\campa\\AppData\\Local\\Temp\\ipykernel_5092\\2207448988.py:18: DeprecationWarning: Conversion of an array with ndim > 0 to a scalar is deprecated, and will error in future. Ensure you extract a single element from your array before performing this operation. (Deprecated NumPy 1.25.)\n",
      "  conc_array[traj_idx, t_idx] = concurrence_pure_state(state) #Use fast method for pure states\n"
     ]
    }
   ],
   "source": [
    "my_exp = ee_solutions_jhom\n",
    "\n",
    "conc_ee_solutions_jhom = compute_concurrences(my_exp)\n",
    "mean_conc_ee_solutions_jhom = compute_mean_concurrence(conc_ee_solutions_jhom)"
   ]
  },
  {
   "cell_type": "code",
   "execution_count": 34,
   "id": "73b269cc",
   "metadata": {},
   "outputs": [
    {
     "name": "stdout",
     "output_type": "stream",
     "text": [
      "3000\n",
      "3000\n",
      "3000\n"
     ]
    }
   ],
   "source": [
    "print(len(times))\n",
    "print(len(mean_conc_ee_solutions_jhom))\n",
    "print(len(conc_ee_solutions_jhom[10,:]))"
   ]
  },
  {
   "cell_type": "code",
   "execution_count": null,
   "id": "fc16042f",
   "metadata": {},
   "outputs": [
    {
     "data": {
      "image/png": "[encoded data removed]",
      "text/plain": [
       "<Figure size 640x480 with 1 Axes>"
      ]
     },
     "metadata": {},
     "output_type": "display_data"
    }
   ],
   "source": [
    "line1, = plt.plot(times, mean_conc_ee_solutions_jhom, label=\"Average\")\n",
    "line2, = plt.plot(times, conc_ee_solutions_jhom[11], label=\"Trajectory #10\")\n",
    "line3, = plt.plot(times, theo_concurrence(times, GAMMA), color='black', linestyle ='--', label=\"Theoretical\")\n",
    "\n",
    "plt.axhline(y=0.5, color='gray', linestyle='--', linewidth=1, label='y = 0.5')\n",
    "plt.axhline(y=1, color='red', linestyle='-', linewidth=1.5, label='y = 1')\n",
    "\n",
    "plt.xlabel(\"t [T1]\")\n",
    "plt.ylabel(\"Concurrence\")\n",
    "plt.title(f\"Joint homodyne |ee> state, T1={T_1}\")\n",
    "plt.grid(True)\n",
    "plt.legend(handles = [line1, line2, line3])\n",
    "plt.show()\n",
    "\n"
   ]
  },
  {
   "cell_type": "markdown",
   "id": "3bd2a3e4",
   "metadata": {},
   "source": [
    "Five different Kraus operators! They form a complete set of outcomes s.t. they \"add\" to identity. Then we may draw a number from a multinomial distribution at every time step, each\n",
    "possibility of which corresponds to a given detector outcom"
   ]
  },
  {
   "cell_type": "code",
   "execution_count": 10,
   "id": "478bace5",
   "metadata": {},
   "outputs": [],
   "source": [
    "#Evolution with Kraus operators\n",
    "\n",
    "eps = 0.1 \n",
    "sqrt = np.sqrt  #Keep it short\n",
    "\n",
    "# M_00\n",
    "M_00 = Qobj([\n",
    "    [1 - eps,      0,           0,        0],\n",
    "    [0,      sqrt(1 - eps),     0,        0],\n",
    "    [0,            0,     sqrt(1 - eps),  0],\n",
    "    [0,            0,           0,        1]\n",
    "])\n",
    "\n",
    "# M_10\n",
    "M_10 = Qobj([\n",
    "    [0, 0, 0, 0],\n",
    "    [sqrt(eps * (1 - eps)/ 2) , 0, 0, 0],\n",
    "    [sqrt(eps * (1 - eps)/ 2), 0, 0, 0],\n",
    "    [0, sqrt(eps/2), sqrt(eps/2), 0]\n",
    "])\n",
    "\n",
    "# M_01\n",
    "M_01 = Qobj([\n",
    "    [0, 0, 0, 0],\n",
    "    [-sqrt(eps * (1 - eps)/ 2) , 0, 0, 0],\n",
    "    [sqrt(eps * (1 - eps)/ 2), 0, 0, 0],\n",
    "    [0, sqrt(eps/2), -sqrt(eps/2), 0]\n",
    "])\n",
    "\n",
    "# M_20\n",
    "M_20 = Qobj([\n",
    "    [0, 0, 0, 0],\n",
    "    [0, 0, 0, 0],\n",
    "    [0, 0, 0, 0],\n",
    "    [eps / sqrt(2), 0, 0, 0]\n",
    "])\n",
    "\n",
    "# M_02\n",
    "M_02 = Qobj([\n",
    "    [0, 0, 0, 0],\n",
    "    [0, 0, 0, 0],\n",
    "    [0, 0, 0, 0],\n",
    "    [-eps / sqrt(2), 0, 0, 0]\n",
    "])\n",
    "\n",
    "kraus_ops = [M_00, M_10, M_01, M_20, M_02]\n",
    "\n",
    "#Probabilities:\n",
    "\n",
    "def compute_weights(q1, q2, q3, q4, gamma, dt):\n",
    "    # Calcolo di Xi e Theta\n",
    "    Xi = 1 + q1 / np.sqrt(2) + q2 / np.sqrt(6) + 2 * q3 / np.sqrt(3) #Squared symbol\n",
    "    Theta = 1/4 + q1 / np.sqrt(2) + q2 / np.sqrt(6) + q3 / (2 * np.sqrt(3))\n",
    "\n",
    "    # Coefficienti w_ij\n",
    "    w_00 = 1 - dt * gamma * Xi + dt**2 * gamma**2 * Theta\n",
    "    w_10 = gamma * dt * (3/2 - q4 / np.sqrt(2)) - gamma**2 * dt**2 * Theta\n",
    "    w_01 = gamma * dt * (3/2 + q4 / np.sqrt(2)) - gamma**2 * dt**2 * Theta\n",
    "    w_02 = gamma**2 * dt**2 / 2\n",
    "    w_20 = w_02"
   ]
  }
 ],
 "metadata": {
  "kernelspec": {
   "display_name": "SMT_venv",
   "language": "python",
   "name": "python3"
  },
  "language_info": {
   "codemirror_mode": {
    "name": "ipython",
    "version": 3
   },
   "file_extension": ".py",
   "mimetype": "text/x-python",
   "name": "python",
   "nbconvert_exporter": "python",
   "pygments_lexer": "ipython3",
   "version": "3.12.10"
  }
 },
 "nbformat": 4,
 "nbformat_minor": 5
}
