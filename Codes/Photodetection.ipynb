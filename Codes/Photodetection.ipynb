{
 "cells": [
  {
   "cell_type": "code",
   "execution_count": 169,
   "id": "b953f8e2",
   "metadata": {},
   "outputs": [],
   "source": [
    "import numpy as np\n",
    "import matplotlib.pyplot as plt\n",
    "from qutip import *"
   ]
  },
  {
   "cell_type": "markdown",
   "id": "e687f96d",
   "metadata": {},
   "source": [
    "# Entanglement of a pair of quantum emitters via continuous fluorescence measurements: a tutorial"
   ]
  },
  {
   "cell_type": "markdown",
   "id": "b9f1be0b",
   "metadata": {},
   "source": [
    "### SME - JUMP TRAJECTORIES FROM CONTINUOUS PHOTODETECTION, Chap.4"
   ]
  },
  {
   "cell_type": "code",
   "execution_count": 187,
   "id": "ac019e59",
   "metadata": {},
   "outputs": [],
   "source": [
    "# parameters\n",
    "#DIM = 4               # Hilbert space dimension\n",
    "GAMMA = 1              # Atom decay rate\n",
    "OMEGA = 1\n",
    "T_1 = 1 / GAMMA  # time constant for the decay\n",
    "ntraj = 100 # number of trajectories\n",
    "I_2 = qeye(2)  # identity operator for 2-level system\n",
    "sm = sigmam()  # lowering operator for 2-level system (atom)\n",
    "\n",
    "# operators\n",
    "sigma_minus_1 = tensor(sm, I_2) # lowering operator for atom 1\n",
    "sigma_minus_2 = tensor(I_2, sm) # lowering operator for atom 2\n",
    "sigma_minus_12 = tensor(sigma_minus_1, sigma_minus_2) # combined lowering operator for both atoms    \n",
    "\n",
    "sigma_plus_1 = sigma_minus_1.dag() # raising operator for atom 1\n",
    "sigma_plus_2 = sigma_minus_2.dag() # raising operator for atom       \n",
    "sigma_plus_12 = tensor(sigma_plus_1, sigma_plus_2) # raising operator for both atoms\n",
    "\n",
    "\n",
    "H_free_atom_1 = 0.5 * OMEGA * tensor(sigmaz(), I_2) # Free Hamiltonian atom 1\n",
    "H_free_atom_2 = 0.5 * OMEGA * tensor(I_2, sigmaz()) # Free Hamiltonian atom 2\n",
    "H_free = H_free_atom_1 + H_free_atom_2 # Free Hamiltonian for both atoms        \n",
    "\n",
    "psi_0 = tensor(basis(2, 0), basis(2, 0)).proj() # initial vector state, |e, e> (the atoms must decay from the excited state!)\n",
    "times = np.arange(0, 3*T_1, 0.0001*T_1) # time vector"
   ]
  },
  {
   "cell_type": "code",
   "execution_count": 188,
   "id": "01bff138",
   "metadata": {},
   "outputs": [
    {
     "name": "stdout",
     "output_type": "stream",
     "text": [
      "10.0%. Run time:   8.25s. Est. time left: 00:00:01:14\n",
      "20.0%. Run time:  42.74s. Est. time left: 00:00:02:50\n",
      "30.0%. Run time:  49.17s. Est. time left: 00:00:01:54\n",
      "40.0%. Run time:  57.49s. Est. time left: 00:00:01:26\n",
      "50.0%. Run time:  64.85s. Est. time left: 00:00:01:04\n",
      "60.0%. Run time:  74.07s. Est. time left: 00:00:00:49\n",
      "70.0%. Run time:  81.47s. Est. time left: 00:00:00:34\n",
      "80.0%. Run time:  88.13s. Est. time left: 00:00:00:22\n",
      "90.0%. Run time:  99.16s. Est. time left: 00:00:00:11\n",
      "100.0%. Run time: 113.94s. Est. time left: 00:00:00:00\n",
      "Total run time: 114.75s\n"
     ]
    }
   ],
   "source": [
    "# solve the master equation using the stochastic master equation with photodetection\n",
    "solutions = mcsolve(\n",
    "    H_free, psi_0, times,\n",
    "    c_ops=[np.sqrt(GAMMA) * sigma_minus_1,  np.sqrt(GAMMA) * sigma_minus_2], #Two collapsing operators for the two atoms\n",
    "    ntraj=ntraj,\n",
    "    options={\"store_states\": True, \"keep_runs_results\": True},\n",
    ")"
   ]
  },
  {
   "cell_type": "code",
   "execution_count": 180,
   "id": "d3a06f9e",
   "metadata": {},
   "outputs": [
    {
     "name": "stdout",
     "output_type": "stream",
     "text": [
      "10.0%. Run time:   8.60s. Est. time left: 00:00:01:17\n",
      "20.0%. Run time:  18.95s. Est. time left: 00:00:01:15\n",
      "30.0%. Run time:  30.03s. Est. time left: 00:00:01:10\n",
      "40.0%. Run time: 139.92s. Est. time left: 00:00:03:29\n",
      "50.0%. Run time: 149.49s. Est. time left: 00:00:02:29\n",
      "60.0%. Run time: 158.76s. Est. time left: 00:00:01:45\n",
      "70.0%. Run time: 168.13s. Est. time left: 00:00:01:12\n",
      "80.0%. Run time: 180.61s. Est. time left: 00:00:00:45\n",
      "90.0%. Run time: 190.84s. Est. time left: 00:00:00:21\n",
      "100.0%. Run time: 201.82s. Est. time left: 00:00:00:00\n",
      "Total run time: 202.91s\n"
     ]
    }
   ],
   "source": [
    "solutions_bell_ = mcsolve(\n",
    "    H_free, bell_state(\"10\"), times,\n",
    "    c_ops=[np.sqrt(GAMMA) * sigma_minus_1,  np.sqrt(GAMMA) * sigma_minus_2], #Two collapsing operators for the two atoms\n",
    "    ntraj=ntraj,\n",
    "    options={\"store_states\": True, \"keep_runs_results\": True},\n",
    ")"
   ]
  },
  {
   "cell_type": "code",
   "execution_count": 170,
   "id": "f8988268",
   "metadata": {},
   "outputs": [],
   "source": [
    "#print(solutions.runs_states)"
   ]
  },
  {
   "cell_type": "code",
   "execution_count": 126,
   "id": "2833db6f",
   "metadata": {},
   "outputs": [
    {
     "data": {
      "text/latex": [
       "Quantum object: dims=[[2, 2], [2, 2]], shape=(4, 4), type='oper', dtype=CSR, isherm=True$$\\left(\\begin{array}{cc}0 & 0 & 0 & 0\\\\0 & 0 & 0 & 0\\\\0 & 0 & 1 & 0\\\\0 & 0 & 0 & 0\\end{array}\\right)$$"
      ],
      "text/plain": [
       "Quantum object: dims=[[2, 2], [2, 2]], shape=(4, 4), type='oper', dtype=CSR, isherm=True\n",
       "Qobj data =\n",
       "[[0. 0. 0. 0.]\n",
       " [0. 0. 0. 0.]\n",
       " [0. 0. 1. 0.]\n",
       " [0. 0. 0. 0.]]"
      ]
     },
     "execution_count": 126,
     "metadata": {},
     "output_type": "execute_result"
    }
   ],
   "source": [
    "stateee = sigma_minus_1 * psi_0 * sigma_plus_1\n",
    "stateee\n",
    "\n",
    "#Confirm that the state is correct"
   ]
  },
  {
   "cell_type": "code",
   "execution_count": 189,
   "id": "3564ae3d",
   "metadata": {},
   "outputs": [],
   "source": [
    "with open(\"psi_0_states.txt\", \"w\") as file:\n",
    "    file.write(\"\\n\".join(str(e) for e in solutions.runs_states[1]))"
   ]
  },
  {
   "cell_type": "code",
   "execution_count": 160,
   "id": "7e9f3d7b",
   "metadata": {},
   "outputs": [
    {
     "name": "stdout",
     "output_type": "stream",
     "text": [
      "100\n"
     ]
    }
   ],
   "source": [
    "print(len(solutions.runs_states))\n",
    "#List of list"
   ]
  },
  {
   "cell_type": "code",
   "execution_count": 175,
   "id": "997dcc60",
   "metadata": {},
   "outputs": [
    {
     "data": {
      "text/latex": [
       "Quantum object: dims=[[2, 2], [1]], shape=(4, 1), type='ket', dtype=Dense$$\\left(\\begin{array}{cc}0\\\\0.707\\\\0.707\\\\0\\end{array}\\right)$$"
      ],
      "text/plain": [
       "Quantum object: dims=[[2, 2], [1]], shape=(4, 1), type='ket', dtype=Dense\n",
       "Qobj data =\n",
       "[[0.        ]\n",
       " [0.70710678]\n",
       " [0.70710678]\n",
       " [0.        ]]"
      ]
     },
     "execution_count": 175,
     "metadata": {},
     "output_type": "execute_result"
    }
   ],
   "source": [
    "solutions_bell_.runs_states[50][500]"
   ]
  },
  {
   "cell_type": "code",
   "execution_count": null,
   "id": "35514b58",
   "metadata": {},
   "outputs": [
    {
     "name": "stdout",
     "output_type": "stream",
     "text": [
      "[1.   1.   1.   ... 0.07 0.07 0.07]\n"
     ]
    }
   ],
   "source": [
    "#List of concurrences : Rows = ntraj and columns = times\n",
    "concurrences = np.zeros((ntraj, len(solutions_bell_.runs_states[0])))\n",
    "\n",
    "for traj_idx in range(ntraj):\n",
    "    for t_idx in range(len(solutions_bell_.runs_states[traj_idx])):\n",
    "        state = solutions_bell_.runs_states[traj_idx][t_idx]\n",
    "        concurrences[traj_idx, t_idx] = concurrence(state.proj())\n",
    "\n",
    "# Media temporale sulle traiettorie\n",
    "mean_concurrence = np.mean(np.array(concurrences), axis=0)\n",
    "\n",
    "print(mean_concurrence)"
   ]
  },
  {
   "cell_type": "code",
   "execution_count": null,
   "id": "cf3e084b",
   "metadata": {},
   "outputs": [],
   "source": [
    "#List of concurrences : Rows = ntraj and columns = times\n",
    "concurrences_psi_0 = np.zeros((ntraj, len(solutions.runs_states[0])))\n",
    "\n",
    "for traj_idx in range(ntraj):\n",
    "    for t_idx in range(len(solutions.runs_states[traj_idx])):\n",
    "        state = solutions.runs_states[traj_idx][t_idx]\n",
    "        concurrences_psi_0[traj_idx, t_idx] = concurrence(state.proj())\n",
    "\n",
    "# Media temporale sulle traiettorie\n",
    "mean_concurrence_psi_0 = np.mean(np.array(concurrences_psi_0), axis=0)\n",
    "\n",
    "print(mean_concurrence_psi_0)"
   ]
  },
  {
   "cell_type": "code",
   "execution_count": null,
   "id": "fc16042f",
   "metadata": {},
   "outputs": [
    {
     "data": {
      "image/png": "[encoded data removed]",
      "text/plain": [
       "<Figure size 640x480 with 1 Axes>"
      ]
     },
     "metadata": {},
     "output_type": "display_data"
    }
   ],
   "source": [
    "plt.plot(times, mean_concurrence, mean_concurrence_psi_0, label=[\"Bell state\", \"psi_0 state\"])\n",
    "plt.xlabel(\"t[T1]\")\n",
    "plt.ylabel(\"Mean concurrence\")\n",
    "plt.title(f\"Mean concurrence over trajectories, T1={T_1}\")\n",
    "plt.grid(True)\n",
    "plt.show()"
   ]
  },
  {
   "cell_type": "markdown",
   "id": "3bd2a3e4",
   "metadata": {},
   "source": [
    "Five different Kraus operators! They form a complete set of outcomes s.t. they \"add\" to identity. Then we may draw a number from a multinomial distribution at every time step, each\n",
    "possibility of which corresponds to a given detector outcom"
   ]
  },
  {
   "cell_type": "code",
   "execution_count": null,
   "id": "478bace5",
   "metadata": {},
   "outputs": [],
   "source": [
    "#Evolution with Kraus operators\n",
    "\n",
    "eps = 0.1 \n",
    "sqrt = np.sqrt  #Keep it short\n",
    "\n",
    "# M_00\n",
    "M_00 = Qobj([\n",
    "    [1 - eps,      0,           0,        0],\n",
    "    [0,      sqrt(1 - eps),     0,        0],\n",
    "    [0,            0,     sqrt(1 - eps),  0],\n",
    "    [0,            0,           0,        1]\n",
    "])\n",
    "\n",
    "# M_10\n",
    "M_10 = Qobj([\n",
    "    [0, 0, 0, 0],\n",
    "    [sqrt(eps * (1 - eps)/ 2) , 0, 0, 0],\n",
    "    [sqrt(eps * (1 - eps)/ 2), 0, 0, 0],\n",
    "    [0, sqrt(eps/2), sqrt(eps/2), 0]\n",
    "])\n",
    "\n",
    "# M_01\n",
    "M_01 = Qobj([\n",
    "    [0, 0, 0, 0],\n",
    "    [-sqrt(eps * (1 - eps)/ 2) , 0, 0, 0],\n",
    "    [sqrt(eps * (1 - eps)/ 2), 0, 0, 0],\n",
    "    [0, sqrt(eps/2), -sqrt(eps/2), 0]\n",
    "])\n",
    "\n",
    "# M_20\n",
    "M_20 = Qobj([\n",
    "    [0, 0, 0, 0],\n",
    "    [0, 0, 0, 0],\n",
    "    [0, 0, 0, 0],\n",
    "    [eps / sqrt(2), 0, 0, 0]\n",
    "])\n",
    "\n",
    "# M_02\n",
    "M_02 = Qobj([\n",
    "    [0, 0, 0, 0],\n",
    "    [0, 0, 0, 0],\n",
    "    [0, 0, 0, 0],\n",
    "    [-eps / sqrt(2), 0, 0, 0]\n",
    "])\n",
    "\n",
    "kraus_ops = [M_00, M_10, M_01, M_20, M_02]\n",
    "\n",
    "#Probabilities:\n",
    "\n",
    "def compute_weights(q1, q2, q3, q4, gamma, dt):\n",
    "    # Calcolo di Xi e Theta\n",
    "    Xi = 1 + q1 / np.sqrt(2) + q2 / np.sqrt(6) + 2 * q3 / np.sqrt(3) #Squared symbol\n",
    "    Theta = 1/4 + q1 / np.sqrt(2) + q2 / np.sqrt(6) + q3 / (2 * np.sqrt(3))\n",
    "\n",
    "    # Coefficienti w_ij\n",
    "    w_00 = 1 - dt * gamma * Xi + dt**2 * gamma**2 * Theta\n",
    "    w_10 = gamma * dt * (3/2 - q4 / np.sqrt(2)) - gamma**2 * dt**2 * Theta\n",
    "    w_01 = gamma * dt * (3/2 + q4 / np.sqrt(2)) - gamma**2 * dt**2 * Theta\n",
    "    w_02 = gamma**2 * dt**2 / 2\n",
    "    w_20 = w_02"
   ]
  }
 ],
 "metadata": {
  "kernelspec": {
   "display_name": "SMT_venv",
   "language": "python",
   "name": "python3"
  },
  "language_info": {
   "codemirror_mode": {
    "name": "ipython",
    "version": 3
   },
   "file_extension": ".py",
   "mimetype": "text/x-python",
   "name": "python",
   "nbconvert_exporter": "python",
   "pygments_lexer": "ipython3",
   "version": "3.12.10"
  }
 },
 "nbformat": 4,
 "nbformat_minor": 5
}
